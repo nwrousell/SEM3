{
 "cells": [
  {
   "cell_type": "code",
   "execution_count": null,
   "metadata": {},
   "outputs": [],
   "source": [
    "import pandas as pd\n",
    "import matplotlib.pyplot as plt"
   ]
  },
  {
   "cell_type": "code",
   "execution_count": null,
   "metadata": {},
   "outputs": [],
   "source": [
    "path = '../runs/summaries/'\n",
    "data = [f'{path}road_runner_audio_please_3']]\n",
    "titles"
   ]
  },
  {
   "cell_type": "code",
   "execution_count": null,
   "metadata": {},
   "outputs": [],
   "source": [
    "for file in data:\n",
    "    df = pd.read_csv(file)\n",
    "    grad_steps = df['gradient_step']\n",
    "    rewards = df['episode_reward']\n",
    "    survival_time = df['episode_length']\n",
    "    plt.plot(grad_steps, rewards, marker='o', linestyle='-')\n",
    "    plt.xlabel('Environment Step')\n",
    "    plt.ylabel('Reward Value')\n",
    "    plt.title(f'Energy of agent {id} after {round_count} rounds')\n",
    "    plt.show()\n",
    "\n",
    "    plt.plot(grad_steps, survival_time, marker='o', linestyle='-')\n",
    "    plt.xlabel('Environment Step')\n",
    "    plt.ylabel('Reward Value')\n",
    "    plt.title(f'Energy of agent {id} after {round_count} rounds')\n",
    "    plt.show()\n",
    "\n"
   ]
  }
 ],
 "metadata": {
  "language_info": {
   "name": "python"
  }
 },
 "nbformat": 4,
 "nbformat_minor": 2
}
